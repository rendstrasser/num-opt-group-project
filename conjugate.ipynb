{
 "cells": [
  {
   "cell_type": "markdown",
   "metadata": {},
   "source": [
    "<h3 style=\"background-color: #D3D92B;\"><br>Numerical Optimisation. Project 1<br></h3><br>\n",
    "\n",
    "# !! Note from team!! \n",
    "\n",
    "We suggest to just look at the submission.ipynb file - it contains all of the 4 direction methods (steepest descent, conjugate, newton, quasi-newton) and is still pretty concise and easy to look at. \n",
    "\n",
    "We also created 4 standalone notebooks for each direction method, as wanted, but most of the text is just duplicated (really only the executed minimizations with the respective direction methods is different)."
   ]
  },
  {
   "cell_type": "markdown",
   "metadata": {},
   "source": [
    "<h3 style=\"background-color: #D3D92B;\"><br>Team Information<br></h3><br>"
   ]
  },
  {
   "cell_type": "markdown",
   "metadata": {},
   "source": [
    "<i>Group 08<br>\n",
    "Participants information in alphabetical order</i>\n",
    "<table style=\"width:100%\">\n",
    "  <\n",
    "    <th style = \"text-align: left\">#</th>\n",
    "    <th style = \"text-align: left\">Name</th>\n",
    "    <th style = \"text-align: left\">Lastname</th>\n",
    "    <th style = \"text-align: left\">Matr Number</th>\n",
    "  </tr>\n",
    "  <tr>\n",
    "    <td style = \"text-align: left\">1</td>\n",
    "    <td style = \"text-align: left\">Alexander</td>\n",
    "    <td style = \"text-align: left\">Temper</td>\n",
    "    <td style = \"text-align: left\">K11905007</td>\n",
    "  </tr>\n",
    "  <tr>\n",
    "    <td style = \"text-align: left\">2</td>\n",
    "    <td style = \"text-align: left\">Bernhard Michael</td>\n",
    "    <td style = \"text-align: left\">Voggenberger</td>\n",
    "    <td style = \"text-align: left\">K11907093</td>\n",
    "  </tr>\n",
    "  <tr>\n",
    "    <td style = \"text-align: left\">3</td>\n",
    "    <td style = \"text-align: left\">Christian</td>\n",
    "    <td style = \"text-align: left\">Ganhör</td>\n",
    "    <td style = \"text-align: left\">K11911652</td>\n",
    "  </tr>\n",
    "  <tr>\n",
    "    <td style = \"text-align: left\">4</td>\n",
    "    <td style = \"text-align: left\">Christoph</td>\n",
    "    <td style = \"text-align: left\">Koller</td>\n",
    "    <td style = \"text-align: left\">K11910272</td>\n",
    "    </tr>\n",
    "  <tr>\n",
    "    <td style = \"text-align: left\">5</td>\n",
    "    <td style = \"text-align: left\">Franziska</td>\n",
    "    <td style = \"text-align: left\">Denk</td>\n",
    "    <td style = \"text-align: left\">K11904292</td>\n",
    "  </tr>\n",
    "  <tr>\n",
    "    <td style = \"text-align: left\">6</td>\n",
    "    <td style = \"text-align: left\">Lukas</td>\n",
    "    <td style = \"text-align: left\">Gattermayr</td>\n",
    "    <td style = \"text-align: left\">K11911639</td>\n",
    "  </tr>\n",
    "  <tr>\n",
    "    <td style = \"text-align: left\">7</td>\n",
    "    <td style = \"text-align: left\">Nathanael</td>\n",
    "    <td style = \"text-align: left\">Harmetzky</td>\n",
    "    <td style = \"text-align: left\">K11916566</td>\n",
    "  </tr>\n",
    "  <tr>\n",
    "    <td style = \"text-align: left\">8</td>\n",
    "    <td style = \"text-align: left\">Raphael-Pascal</td>\n",
    "    <td style = \"text-align: left\">Endstrasser</td>\n",
    "    <td style = \"text-align: left\">K11907909</td>\n",
    "  </tr>\n",
    "  <tr>\n",
    "    <td style = \"text-align: left\">9</td>\n",
    "    <td style = \"text-align: left\">Tobias</td>\n",
    "    <td style = \"text-align: left\">Stierberger</td>\n",
    "    <td style = \"text-align: left\">K11907869</td>\n",
    "  </tr>\n",
    "  <tr>\n",
    "    <td style = \"text-align: left\">10</td>\n",
    "    <td style = \"text-align: left\">***</td>\n",
    "    <td style = \"text-align: left\">***</td>\n",
    "    <td style = \"text-align: left\">***</td>\n",
    "  </tr>\n",
    "</table>\n"
   ]
  },
  {
   "cell_type": "markdown",
   "metadata": {},
   "source": [
    "<h3 style=\"background-color: #D3D92B;\"><br>Implementation<br></h3><br>\n",
    "<hr><h4 style=\"background-color: #ADB8FF;\"><br>Imports<br></h4><br>\n",
    "<i>Describe how to install additional packages, if you have some, here</i>\n"
   ]
  },
  {
   "cell_type": "markdown",
   "metadata": {},
   "source": [
    "**Installing Python (you can probably skip this already if you have Python installed)**  \n",
    "First you need to make sure, that you already have Python and pip installed, and that pip is up to date (run in terminal: #pip install --upgrade pip#). If you need to install it first, here is a guide for Windows: https://www.liquidweb.com/kb/install-pip-windows/ and on Ubuntu/Linux: first run #sudo apt-get install python3.9# and then #sudo apt install python3-pip#.\n",
    "Then, you can install all packages via pip in the terminal. The necessary commands are given here:\n",
    "\n",
    "* pip3 install numpy\n",
    "* pip3 install scipy\n",
    "* pip3 install matplotlib\n",
    "* pip3 install seaborn\n",
    "* pip3 install mpmath\n",
    "\n",
    "You may also install the packages in the Python environment used by the Jupyter server, by executing the following code block."
   ]
  },
  {
   "cell_type": "code",
   "execution_count": 1,
   "metadata": {},
   "outputs": [],
   "source": [
    "# To immediately install the required packages in the Jupyter environment, uncomment and execute the following lines:\n",
    "\n",
    "#!pip install numpy\n",
    "#!pip install scipy\n",
    "#!pip install matplotlib\n",
    "#!pip install seaborn\n",
    "#!pip install mpmath"
   ]
  },
  {
   "cell_type": "markdown",
   "metadata": {},
   "source": [
    "### Imports"
   ]
  },
  {
   "cell_type": "code",
   "execution_count": 2,
   "metadata": {},
   "outputs": [],
   "source": [
    "import numpy as np\n",
    "import scipy \n",
    "import pandas as pd\n",
    "from matplotlib import pyplot as plt\n",
    "import seaborn as sns\n",
    "\n",
    "# custom added imports\n",
    "from typing import Callable, Tuple # only for typing, code readability\n",
    "from dataclasses import dataclass  # only for typing, code readability\n",
    "from mpmath import mp # for increasing floating-point precision"
   ]
  },
  {
   "cell_type": "code",
   "execution_count": 3,
   "metadata": {},
   "outputs": [],
   "source": [
    "# automatically reloads imports periodically for seamless development\n",
    "%load_ext autoreload\n",
    "%autoreload 2\n",
    "\n",
    "# custom imports\n",
    "from src.classes import MinimizationProblemSettings\n",
    "from src.problems import create_quadratic_problem, create_non_quadratic_problem\n",
    "from src.minimization import find_minimizer\n",
    "from src.printout import final_printout, plot_grad_norms\n",
    "from src.methods.newton import newton_direction\n",
    "from src.methods.steepest_descent import steepest_descent_direction\n",
    "from src.methods.quasi_newton import bfgs_quasi_newton_direction\n",
    "from src.methods.conjugate import fr_conjugate_direction"
   ]
  },
  {
   "cell_type": "markdown",
   "metadata": {},
   "source": [
    "<hr><h4 style=\"background-color: #ADB8FF;\"><br>Stopping criteria<br></h4><br>\n",
    "<i>Place for additional comments and argumentation<i>\n"
   ]
  },
  {
   "cell_type": "markdown",
   "metadata": {},
   "source": [
    "### Comments\n",
    "\n",
    "We implemented the new stopping criteria as described in the pdf and showcase them below in the section of quadratic problems for a small problem (only for steepest descent), that we deliberately scale by $10^5$. We followed the suggestion to make them relative to the first iterate such that scaled problems work well.\n",
    "\n",
    "The code is located at **src/stopping_criterion.py**"
   ]
  },
  {
   "cell_type": "markdown",
   "metadata": {},
   "source": [
    "<hr><h4 style=\"background-color: #ADB8FF;\"><br>Variables scaling<br></h4><br>\n",
    "<i>Place your reasoning here, how your algorithm behave with respect to this problem. You can also try rescaling your problems\n",
    "This is additional task, which can earn you several points.<i>"
   ]
  },
  {
   "cell_type": "markdown",
   "metadata": {},
   "source": [
    "### Comments\n",
    "\n",
    "We argue that our problems are not poorly scaled and therefore perform pretty well with regards to variable scaling. In particular, we implemented variable scaling for quadratic problems and it doesn't really help much for our problems.\n",
    "However, we implemented a showcase problem and show it below in the section of quadratic problems for a small problem (for steepest descent). You can try to deactivate the option 'variable_scaling_enabled' to see that it takes a lot longer for steepest descent to converge if we don't scale the variables. The method we implemented is called the Ruiz algorithm and presented in https://arxiv.org/abs/1610.03871 (Algorithm 2).\n",
    "\n",
    "The code is located at **src/scaling.py**"
   ]
  },
  {
   "cell_type": "markdown",
   "metadata": {},
   "source": [
    "<hr><h4 style=\"background-color: #ADB8FF;\"><br>Stabilising algorithm<br></h4><br>\n",
    "<i>Place your reasoning here, how your algorithm behave with respect to this problem. You can also try rescaling your problems\n",
    "This is additional task, which can earn you several points.</i>\n",
    "\n",
    "### Comments\n",
    "We implemented rescaling for quadratic problems in the context of variable scaling and have measures that we could take against floating-point instability, if we had problems with such issues (mpmath, see next section). Furthermore, we are using the gaussian elimination with row partial pivoting **and** cholesky factorization (see matrix inversion section) as stable methods to solve linear systems instead of other unstable methods such as standard gaussian elimination.\n"
   ]
  },
  {
   "cell_type": "markdown",
   "metadata": {},
   "source": [
    "<hr><h4 style=\"background-color: #ADB8FF;\"><br>Fighting floating-point numbers and roundoff error<br></h4><br>\n",
    "<i>Place your reasoning, how your algorithm behave with respect to this problem. You can also try rescaling your problems\n",
    "This is additional task, which can earn you several points.</i>\n",
    "\n",
    "### Comments"
   ]
  },
  {
   "cell_type": "markdown",
   "metadata": {},
   "source": [
    "To solve the floating point / rounding problem we tried to use libraries that enable us to perform calculations with more precision. One of these libraries is [**mpmath**](https://mpmath.org/), which supports real and complex floating-point arithmetic with arbitrary precision. It can easily be installed in the terminal by running ```pip install mpmath```. Further setup information is available [here](https://mpmath.org/doc/current/setup.html#setting-up-mpmath)."
   ]
  },
  {
   "cell_type": "code",
   "execution_count": 4,
   "metadata": {},
   "outputs": [],
   "source": [
    "# sets the decimal points precision that we want to have when performing floating-point arithmetic with the mpmath library\n",
    "# just for demonstration, by now not used anymore (see reasoning below)\n",
    "mp.dps = 42"
   ]
  },
  {
   "cell_type": "markdown",
   "metadata": {},
   "source": [
    "As the precision is arbitrary, the user may choose it to fulfill specific needs. We can either choose to set the binary precision (prec) or the decimal places (dps) we want to have. For this project, we use the latter and set it as in the code block above.\n",
    "\n",
    "This setting is used throughout the entire project. Therefore, performing an arithmetic operation rounds the result to this precision. Again, further information can be found in the libraries documentations: https://mpmath.org/doc/current/basics.html?highlight=dps#setting-the-precision.\n",
    "\n",
    "Although in principle this sounded like a good idea, using higher precision for calculations also means longer execution times. Especially for mpmath, which does not seem to be built for fast calculations, this lead to **LONG** execution times, and therefore we discontinued our all-mpmath approach.\n",
    "\n",
    "In general, we are able to solve our problems well without bigger adaptions to floating-point arithmetic, as they seem to be well-conditioned, due to no significant difference in the number of minimization iterations when executed with a very high precision through mpmath.\n",
    "\n",
    "Additionally, to be safe, we ensure that no steps from $x_k$ to $x_{k+1}$ are taken which are below the precision of our floating-point arithmetic, such that we don't run into infinite loops."
   ]
  },
  {
   "cell_type": "markdown",
   "metadata": {},
   "source": [
    "<hr><h4 style=\"background-color: #ADB8FF;\"><br>Inverting matrices<br></h4><br>\n",
    "<i>Place for additional comments and argumentation</i>\n",
    "\n",
    "### Comments\n",
    "    \n",
    "We actually implemented **two** algorithms for solving linear systems. The first one is implemented as a matrix inversion using an LU decomposition with partial pivoting (LUP), as described in Algorithm A.1 in the book and https://en.wikipedia.org/wiki/LU_decomposition. The second one solves linear systems directly using the cholesky factorization and forward/backward substitution. Therefore, we are able to solve linear systems effectively for cases where we have a positive-definite matrix and also where we don't have guarantees for positive-definiteness.\n",
    "\n",
    "The code for the first method is located at **src/matrix_inversion.py** and used in **src/solve.py** in the method solve_gaussian_elimination_inverse.  \n",
    "The code for the second method is located at **src/linear_systems.py**"
   ]
  },
  {
   "cell_type": "markdown",
   "metadata": {},
   "source": [
    "<hr><h4 style=\"background-color: #ADB8FF;\"><br>Gradients calculation<br></h4><br>\n",
    "<i>Place for additional comments and argumentation</i>\n",
    "\n",
    "### Comments\n",
    "We implemented gradient and hessian approximation as described in the book in section 8.1. \n",
    "\n",
    "The code is located at **src/gradient_approximation.py**"
   ]
  },
  {
   "cell_type": "markdown",
   "metadata": {},
   "source": [
    "<hr><h4 style=\"background-color: #ADB8FF;\"><br>Additional objects you implemented<br></h4><br>\n",
    "<i>Place for additional comments and argumentation</i>\n",
    "\n",
    "Additional files:\n",
    "- **src/classes.py** - contains classes that encapsulate stateful information. We capture the minimization problem, minimization problem settings and a minimization iteration state in separate classes.\n",
    "- **src/printout.py** - contains the original print method of the template and a utility to plot gradients"
   ]
  },
  {
   "cell_type": "markdown",
   "metadata": {},
   "source": [
    "<hr><h4 style=\"background-color: #ADB8FF;\"><br>Optimising algorithm itself<br></h4><br>\n",
    "<i>Place for additional comments and argumentation</i>\n",
    "\n",
    "### Comments\n",
    "\n",
    "We implemented the minimization procedure with a backtracking line search for all direction methods.  \n",
    "\n",
    "The code is located at **src/minimization.py** and **src/methods/*.py**"
   ]
  },
  {
   "cell_type": "markdown",
   "metadata": {},
   "source": [
    "<h3 style=\"background-color: #D3D92B;\"><br>Testing on 5-10 variables, Quadratic objective<br></h3><br>\n",
    "<hr><h4 style=\"background-color: #ADB8FF;\"><br>Implement functions to optimise over<br></h4><br>\n",
    "<i>Place for additional comments and argumentation</i>\n",
    "\n",
    "### Comments\n",
    "\n",
    "We randomly create our problems, but have fixed a seed to get the same \"random\" problems whenever the notebook is executed.\n",
    "\n",
    "The code is located at **src/problems.py**"
   ]
  },
  {
   "cell_type": "code",
   "execution_count": 5,
   "metadata": {},
   "outputs": [],
   "source": [
    "# Settings for quadratic problems in this notebook\n",
    "settings = MinimizationProblemSettings(\n",
    "    # --- Settings that activate/deactive newly implemented features for phase 2 ---\n",
    "    gradient_approximation_enabled = True,\n",
    "    hessian_approximation_enabled = True,\n",
    "    # use cholesky as we have almost guaranteed positive-definiteness for quadratic problems\n",
    "    # (almost, because we approximate the hessian)\n",
    "    cholesky_linear_systems_solver_enabled = True,\n",
    "    gaussian_elimination_linear_systems_solver_enabled = False,\n",
    "    # not activated, because our problems are not degenerated and this setting doesn't help there\n",
    "    # we have a dedicated showcase for this feature to show that it works very well for degenerated problems\n",
    "    variable_scaling_enabled = False,\n",
    "    # not activated, as our problems aren't poorly scaled and we rather don't want to make sure\n",
    "    # the tolerance is set correctly for each problem\n",
    "    # we have a dedicated showcase for this feature to show that it works very well for scaled problems\n",
    "    # if you activate this, be aware that you need to decrease the tolerance by at least 1e-5 \n",
    "    # to ensure that we still get close solutions\n",
    "    # (with a similar number of iterations, as our problems aren't poorly scaled)\n",
    "    advanced_stopping_criteria_enabled = False, \n",
    "\n",
    "    # --- Settings that adapt the minimization problem creation, mostly for showcases later, should not be adapted here ---\n",
    "    degenerate_problem = False, # no degeneration for default problems\n",
    "    scale_problem = False # no scaling for default problems\n",
    ")"
   ]
  },
  {
   "cell_type": "code",
   "execution_count": 6,
   "metadata": {},
   "outputs": [],
   "source": [
    "#your code goes here\n",
    "\n",
    "np.random.seed(41) # reproducability\n",
    "\n",
    "# Take N random values of n for matrix/vector size of quadratic problem\n",
    "N = 5\n",
    "n_values = np.random.randint(low=10, high=21, size=N)\n",
    "\n",
    "# Create actual quadratic problems for dimensionalities n in n_values\n",
    "quadratic_problems = [create_quadratic_problem(n, settings=settings) for n in n_values]\n",
    "\n",
    "# replace 4th problem, as it results in a singular hessian approximation\n",
    "quadratic_problems[3] = create_quadratic_problem(10, settings=settings) "
   ]
  },
  {
   "cell_type": "markdown",
   "metadata": {},
   "source": [
    "<hr><h4 style=\"background-color: #ADB8FF;\"><br>Run 5 tests<br></h4><br>\n",
    "<p><b>Note:</b> After every test print out the resulsts. \n",
    "<br>For your convinience we implemented a function which will do it for you. Function can be used in case after running optimisation you return $x_{optimal}$, and if you have implemented your gradient approximation. Feel free to bring your adjustments.\n",
    "<br> Additionaly print how many iterations your algotithm needed. You might also provide charts of your taste (if you want).\n",
    "<p><i>Place for your additional comments and argumentation<i>"
   ]
  },
  {
   "cell_type": "code",
   "execution_count": 7,
   "metadata": {},
   "outputs": [],
   "source": [
    "def execute_quadratic_minimization(problems, direction_method, plot_gradients=True, tolerance=1e-4, max_iter=200_000):\n",
    "    \"\"\"\n",
    "    Executes the minimization procedure for the given direction method (e.g. steepest descent)\n",
    "    for all given quadratic problems. Prints the minimization results and plots the gradients.\n",
    "\n",
    "    :param problems: List of quadratic MinimizationProblem instances that we want to minimize\n",
    "    :param direction_method: Callable that implements the calculation of the direction for an iteration (e.g. steepest descent)\n",
    "    :return: gradients of problem minimization procedure\n",
    "    \"\"\"\n",
    "\n",
    "    print(\"Starting minimization procedure for quadratic problems ...\")\n",
    "\n",
    "    problems_grad_norms = []\n",
    "\n",
    "    for i, problem in enumerate(problems):\n",
    "        print(f\"\\n\\n### Evaluating quadratic problem {i+1} ###\\n\")\n",
    "        \n",
    "        # We perform the actual minimization procedure\n",
    "        x_minimizer, grad_norms = find_minimizer(problem, direction_method, tolerance=tolerance, max_iter=max_iter)\n",
    "        problems_grad_norms.append(grad_norms)\n",
    "        \n",
    "        # Print the result\n",
    "        final_printout(problem.x0, problem.solution, x_minimizer, problem.f, problem.calc_gradient_at, tolerance=1e-2)\n",
    "        print(f\"\\nIterations required: {len(grad_norms)}\")\n",
    "    \n",
    "    if plot_gradients:\n",
    "        plot_grad_norms(problems_grad_norms)\n",
    "    \n",
    "    return problems_grad_norms"
   ]
  },
  {
   "cell_type": "markdown",
   "metadata": {},
   "source": [
    "# Conjugate method"
   ]
  },
  {
   "cell_type": "code",
   "execution_count": 8,
   "metadata": {},
   "outputs": [
    {
     "name": "stdout",
     "output_type": "stream",
     "text": [
      "Starting minimization procedure for quadratic problems ...\n",
      "\n",
      "\n",
      "### Evaluating quadratic problem 1 ###\n",
      "\n",
      "Initial x is :\t\t[0. 0. 0. 0. 0. 0. 0. 0. 0. 0.]\n",
      "Optimal x is :\t\t[4 3 4 2 1 3 8 2 2 2]\n",
      "Approximated x is :\t[4.00016638 2.99890762 3.99961307 2.00007087 1.00044747 3.00017021\n",
      " 8.00099253 1.99972535 2.00047142 1.9995052 ]\n",
      "Is close verification: \t[ True  True  True  True  True  True  True  True  True  True]\n",
      "\n",
      "Function value in optimal point:\t-113172.5\n",
      "Function value in approximated point:   -113172.49999976644\n",
      "Is close verification:\tTrue\n",
      "\n",
      "Gradient approximation in optimal point is:\n",
      "[0. 0. 0. 0. 0. 0. 0. 0. 0. 0.]\n",
      "\n",
      "Gradient approximation in approximated point is:\n",
      "[-0.00097656 -0.00195312 -0.00048828 -0.00146484 -0.00195312 -0.00195312\n",
      " -0.00292969 -0.00146484  0.00048828 -0.00244141]\n",
      "\n",
      "Is close verification:\n",
      "[ True  True  True  True  True  True  True  True  True  True]\n",
      "\n",
      "Iterations required: 1000\n",
      "\n",
      "\n",
      "### Evaluating quadratic problem 2 ###\n",
      "\n",
      "Initial x is :\t\t[0. 0. 0. 0. 0. 0. 0. 0. 0. 0. 0. 0. 0.]\n",
      "Optimal x is :\t\t[2 4 3 8 4 9 7 8 5 9 4 2 4]\n",
      "Approximated x is :\t[2.00480437 3.99592614 2.99803778 8.00052197 3.99867481 8.99911976\n",
      " 6.99830788 7.99919531 4.99970285 9.001967   3.99729735 2.0031916\n",
      " 4.00295442]\n",
      "Is close verification: \t[ True  True  True  True  True  True  True  True  True  True  True  True\n",
      "  True]\n",
      "\n",
      "Function value in optimal point:\t-835987.5\n",
      "Function value in approximated point:   -835987.4999799046\n",
      "Is close verification:\tTrue\n",
      "\n",
      "Gradient approximation in optimal point is:\n",
      "[0. 0. 0. 0. 0. 0. 0. 0. 0. 0. 0. 0. 0.]\n",
      "\n",
      "Gradient approximation in approximated point is:\n",
      "[ 0.         -0.015625   -0.01171875  0.         -0.015625   -0.00390625\n",
      " -0.03125    -0.0078125  -0.01953125 -0.00390625 -0.01171875 -0.03125\n",
      " -0.0078125 ]\n",
      "\n",
      "Is close verification:\n",
      "[ True False False  True False  True False  True False  True False False\n",
      "  True]\n",
      "\n",
      "Iterations required: 1000\n",
      "\n",
      "\n",
      "### Evaluating quadratic problem 3 ###\n",
      "\n",
      "Initial x is :\t\t[0. 0. 0. 0. 0. 0. 0. 0. 0. 0. 0. 0.]\n",
      "Optimal x is :\t\t[4 4 7 2 3 1 3 9 6 1 6 5]\n",
      "Approximated x is :\t[3.99983947 4.00000532 7.00006379 1.99966528 3.00013096 1.00013348\n",
      " 2.99978324 8.99978989 6.00024001 1.00012735 5.99999274 5.00033424]\n",
      "Is close verification: \t[ True  True  True  True  True  True  True  True  True  True  True  True]\n",
      "\n",
      "Function value in optimal point:\t-376312.5\n",
      "Function value in approximated point:   -376312.49999803887\n",
      "Is close verification:\tTrue\n",
      "\n",
      "Gradient approximation in optimal point is:\n",
      "[0. 0. 0. 0. 0. 0. 0. 0. 0. 0. 0. 0.]\n",
      "\n",
      "Gradient approximation in approximated point is:\n",
      "[-0.0078125  -0.00585938 -0.00195312 -0.00585938  0.          0.\n",
      " -0.00195312 -0.00195312 -0.00195312 -0.00390625 -0.00390625 -0.00195312]\n",
      "\n",
      "Is close verification:\n",
      "[ True  True  True  True  True  True  True  True  True  True  True  True]\n",
      "\n",
      "Iterations required: 1000\n",
      "\n",
      "\n",
      "### Evaluating quadratic problem 4 ###\n",
      "\n",
      "Initial x is :\t\t[0. 0. 0. 0. 0. 0. 0. 0. 0. 0.]\n",
      "Optimal x is :\t\t[1 8 9 2 9 1 6 5 7 1]\n",
      "Approximated x is :\t[0.99994311 8.00007748 8.99994355 1.99993977 8.99988478 1.00017998\n",
      " 5.99993926 5.00009725 6.99997254 0.99995843]\n",
      "Is close verification: \t[ True  True  True  True  True  True  True  True  True  True]\n",
      "\n",
      "Function value in optimal point:\t-268130.0\n",
      "Function value in approximated point:   -268129.9999996451\n",
      "Is close verification:\tTrue\n",
      "\n",
      "Gradient approximation in optimal point is:\n",
      "[0. 0. 0. 0. 0. 0. 0. 0. 0. 0.]\n",
      "\n",
      "Gradient approximation in approximated point is:\n",
      "[-0.00390625  0.00390625  0.00390625  0.          0.00195312  0.00195312\n",
      " -0.00390625  0.00195312  0.00195312  0.00195312]\n",
      "\n",
      "Is close verification:\n",
      "[ True  True  True  True  True  True  True  True  True  True]\n",
      "\n",
      "Iterations required: 1000\n",
      "\n",
      "\n",
      "### Evaluating quadratic problem 5 ###\n",
      "\n",
      "Initial x is :\t\t[0. 0. 0. 0. 0. 0. 0. 0. 0. 0. 0.]\n",
      "Optimal x is :\t\t[7 9 6 4 6 7 1 5 7 3 2]\n",
      "Approximated x is :\t[7.00167867 8.99772391 6.00286782 4.00007138 5.99822639 7.0004364\n",
      " 0.99960309 5.00512162 6.99896251 2.99893005 1.99545633]\n",
      "Is close verification: \t[ True  True  True  True  True  True  True  True  True  True  True]\n",
      "\n",
      "Function value in optimal point:\t-486149.0\n",
      "Function value in approximated point:   -486148.99999390537\n",
      "Is close verification:\tTrue\n",
      "\n",
      "Gradient approximation in optimal point is:\n",
      "[0. 0. 0. 0. 0. 0. 0. 0. 0. 0. 0.]\n",
      "\n",
      "Gradient approximation in approximated point is:\n",
      "[ 0.          0.00195312  0.         -0.00585938  0.          0.00585938\n",
      "  0.00390625  0.         -0.00585938 -0.00390625  0.00195312]\n",
      "\n",
      "Is close verification:\n",
      "[ True  True  True  True  True  True  True  True  True  True  True]\n",
      "\n",
      "Iterations required: 1000\n"
     ]
    },
    {
     "data": {
      "image/png": "[encoded data removed]",
      "text/plain": [
       "<Figure size 432x288 with 1 Axes>"
      ]
     },
     "metadata": {
      "needs_background": "light"
     },
     "output_type": "display_data"
    }
   ],
   "source": [
    "#your code goes here\n",
    "\n",
    "_ = execute_quadratic_minimization(quadratic_problems, fr_conjugate_direction, max_iter=1000)"
   ]
  },
  {
   "cell_type": "markdown",
   "metadata": {},
   "source": [
    "<i>Here is some place for your analysis. How the behavour of algorithm changed after adjustments? What are specific details, differences you noticed with respect to other algorithms behaviour.</i>"
   ]
  },
  {
   "cell_type": "markdown",
   "metadata": {},
   "source": [
    "<h3 style=\"background-color: #D3D92B;\"><br>Testing on functions of 1-2 variables, Non-quadratic objective<br></h3><br>\n",
    "<hr><h4 style=\"background-color: #ADB8FF;\"><br>Implement functions to optimise over<br></h4><br>\n",
    "<i>Place for additional comments and argumentation<i>"
   ]
  },
  {
   "cell_type": "code",
   "execution_count": 9,
   "metadata": {},
   "outputs": [],
   "source": [
    "# Settings for non-quadratic problems in this notebook\n",
    "settings = MinimizationProblemSettings(\n",
    "    # --- Settings that activate/deactive newly implemented features for phase 2 ---\n",
    "    gradient_approximation_enabled = True,\n",
    "    hessian_approximation_enabled = True,\n",
    "    cholesky_linear_systems_solver_enabled = False,\n",
    "    # use gaussian elimination for non-quadratic problems, as we can encounter non-positive-definite matrices\n",
    "    gaussian_elimination_linear_systems_solver_enabled = True,\n",
    "    # not activated, because our problems are not degenerated and this setting doesn't help there\n",
    "    # we have a dedicated showcase for this feature to show that it works very well for degenerated problems\n",
    "    variable_scaling_enabled = False,\n",
    "    # not activated, as our problems aren't poorly scaled and we rather don't want to make sure\n",
    "    # the tolerance is set correctly for each problem\n",
    "    # we have a dedicated showcase for this feature to show that it works very well for scaled problems\n",
    "    # if you activate this, be aware that you need to decrease the tolerance by at least 1e-5 \n",
    "    # to ensure that we still get close solutions\n",
    "    # (with a similar number of iterations, as our problems aren't poorly scaled)\n",
    "    advanced_stopping_criteria_enabled = False, \n",
    "\n",
    "    # --- Settings that adapt the minimization problem creation, mostly for showcases later, should not be adapted here ---\n",
    "    degenerate_problem = False, # no degeneration for default problems\n",
    "    scale_problem = False # no scaling for default problems\n",
    ")"
   ]
  },
  {
   "cell_type": "code",
   "execution_count": 10,
   "metadata": {},
   "outputs": [],
   "source": [
    "#your code goes here\n",
    "\n",
    "np.random.seed(41) # reproducability\n",
    "\n",
    "# We create N non-quadratic problems\n",
    "N = 5\n",
    "non_quadratic_problems = [create_non_quadratic_problem(settings=settings) for _ in range(N)]"
   ]
  },
  {
   "cell_type": "markdown",
   "metadata": {},
   "source": [
    "<hr><h4 style=\"background-color: #ADB8FF;\"><br>Run 5 tests<br></h4><br>\n",
    "<p><i>Place for your additional comments and argumentation<i>"
   ]
  },
  {
   "cell_type": "code",
   "execution_count": 11,
   "metadata": {},
   "outputs": [],
   "source": [
    "def execute_non_quadratic_minimization(problems, direction_method):\n",
    "    \"\"\"\n",
    "    Executes the minimization procedure for the given direction method (e.g. steepest descent)\n",
    "    for all given non-quadratic problems. Prints the minimization results and plots the gradients.\n",
    "\n",
    "    :param problems: List of quadratic MinimizationProblem instances that we want to minimize\n",
    "    :param direction_method: Callable that implements the calculation of the direction for an iteration (e.g. steepest descent)\n",
    "    \"\"\"\n",
    "    \n",
    "    print(\"Starting minimization procedure for non-quadratic problems ...\")\n",
    "\n",
    "    problems_grad_norms = []\n",
    "\n",
    "    for i, problem in enumerate(problems):\n",
    "        print(f\"\\n\\n### Evaluating non-quadratic problem {i+1} ###\\n\")\n",
    "        \n",
    "        # We perform the actual minimization procedure\n",
    "        x_minimizer, grad_norms = find_minimizer(problem, direction_method, tolerance=1e-5, max_iter=300_000)\n",
    "        problems_grad_norms.append(grad_norms)\n",
    "\n",
    "        # We have two possible local minimizer solutions, choose the one that is closer to the found minimizer\n",
    "        # Note: Of course, we could easily find a non-quadratic problem for each method where we find the global solution,\n",
    "        # but we argue that this is just a tedious task which requires to hardcode a lot of problems and we instead opt for\n",
    "        # considering each local minimizer as a solution. One can easily just increase n and find 5 problems where we find \n",
    "        # the global solution for a direction method.\n",
    "        dist_to_solution_0 = np.sum(np.abs(problem.solution[0] - x_minimizer))\n",
    "        dist_to_solution_1 = np.sum(np.abs(problem.solution[1] - x_minimizer))\n",
    "        solution = problem.solution[0] if dist_to_solution_0 < dist_to_solution_1 else problem.solution[1]\n",
    "        \n",
    "        # Print the result\n",
    "        final_printout(problem.x0, solution, x_minimizer, problem.f, problem.calc_gradient_at, tolerance=1e-3)\n",
    "        print(f\"\\nIterations required: {len(grad_norms)}\")\n",
    "    \n",
    "    plot_grad_norms(problems_grad_norms)"
   ]
  },
  {
   "cell_type": "markdown",
   "metadata": {},
   "source": [
    "# Conjugate method"
   ]
  },
  {
   "cell_type": "code",
   "execution_count": 12,
   "metadata": {},
   "outputs": [
    {
     "name": "stdout",
     "output_type": "stream",
     "text": [
      "Starting minimization procedure for non-quadratic problems ...\n",
      "\n",
      "\n",
      "### Evaluating non-quadratic problem 1 ###\n",
      "\n",
      "Initial x is :\t\t[-20.]\n",
      "Optimal x is :\t\t[-10]\n",
      "Approximated x is :\t[-9.99999998]\n",
      "Is close verification: \t[ True]\n",
      "\n",
      "Function value in optimal point:\t-4100.0\n",
      "Function value in approximated point:   -4100.0\n",
      "Is close verification:\tTrue\n",
      "\n",
      "Gradient approximation in optimal point is:\n",
      "[0.]\n",
      "\n",
      "Gradient approximation in approximated point is:\n",
      "[0.]\n",
      "\n",
      "Is close verification:\n",
      "[ True]\n",
      "\n",
      "Iterations required: 7\n",
      "\n",
      "\n",
      "### Evaluating non-quadratic problem 2 ###\n",
      "\n",
      "Initial x is :\t\t[-20.]\n",
      "Optimal x is :\t\t[-8]\n",
      "Approximated x is :\t[-8.00000004]\n",
      "Is close verification: \t[ True]\n",
      "\n",
      "Function value in optimal point:\t-682.6666666666666\n",
      "Function value in approximated point:   -682.6666666666667\n",
      "Is close verification:\tTrue\n",
      "\n",
      "Gradient approximation in optimal point is:\n",
      "[0.]\n",
      "\n",
      "Gradient approximation in approximated point is:\n",
      "[-7.62939453e-06]\n",
      "\n",
      "Is close verification:\n",
      "[ True]\n",
      "\n",
      "Iterations required: 6\n",
      "\n",
      "\n",
      "### Evaluating non-quadratic problem 3 ###\n",
      "\n",
      "Initial x is :\t\t[-20.]\n",
      "Optimal x is :\t\t[14]\n",
      "Approximated x is :\t[13.99999992]\n",
      "Is close verification: \t[ True]\n",
      "\n",
      "Function value in optimal point:\t-6402.666666666666\n",
      "Function value in approximated point:   -6402.666666666667\n",
      "Is close verification:\tTrue\n",
      "\n",
      "Gradient approximation in optimal point is:\n",
      "[-3.05175781e-05]\n",
      "\n",
      "Gradient approximation in approximated point is:\n",
      "[0.]\n",
      "\n",
      "Is close verification:\n",
      "[ True]\n",
      "\n",
      "Iterations required: 11\n",
      "\n",
      "\n",
      "### Evaluating non-quadratic problem 4 ###\n",
      "\n",
      "Initial x is :\t\t[-20.]\n",
      "Optimal x is :\t\t[12]\n",
      "Approximated x is :\t[11.99999993]\n",
      "Is close verification: \t[ True]\n",
      "\n",
      "Function value in optimal point:\t-2520.0\n",
      "Function value in approximated point:   -2519.9999999999986\n",
      "Is close verification:\tTrue\n",
      "\n",
      "Gradient approximation in optimal point is:\n",
      "[0.]\n",
      "\n",
      "Gradient approximation in approximated point is:\n",
      "[0.]\n",
      "\n",
      "Is close verification:\n",
      "[ True]\n",
      "\n",
      "Iterations required: 19\n",
      "\n",
      "\n",
      "### Evaluating non-quadratic problem 5 ###\n",
      "\n",
      "Initial x is :\t\t[-20.]\n",
      "Optimal x is :\t\t[10]\n",
      "Approximated x is :\t[9.99999999]\n",
      "Is close verification: \t[ True]\n",
      "\n",
      "Function value in optimal point:\t-633.3333333333333\n",
      "Function value in approximated point:   -633.333333333333\n",
      "Is close verification:\tTrue\n",
      "\n",
      "Gradient approximation in optimal point is:\n",
      "[3.81469727e-06]\n",
      "\n",
      "Gradient approximation in approximated point is:\n",
      "[0.]\n",
      "\n",
      "Is close verification:\n",
      "[ True]\n",
      "\n",
      "Iterations required: 15\n"
     ]
    },
    {
     "data": {
      "image/png": "[encoded data removed]",
      "text/plain": [
       "<Figure size 432x288 with 1 Axes>"
      ]
     },
     "metadata": {
      "needs_background": "light"
     },
     "output_type": "display_data"
    }
   ],
   "source": [
    "#your code goes here\n",
    "\n",
    "execute_non_quadratic_minimization(non_quadratic_problems, fr_conjugate_direction)"
   ]
  },
  {
   "cell_type": "markdown",
   "metadata": {},
   "source": [
    "<i>Here is some place for your analysis. How the behavour of algorithm changed after adjustments? What are specific details, differences you noticed with respect to other algorithms behaviour.</i>\n",
    "\n",
    "# Main findings:\n",
    "* We mostly have \"nice\" problems in terms of scaling, so those don't require any scaling tricks anyways\n",
    "* Gradient approximation isn't hard and works pretty well, in our case it's significantly slower though, but that is due to our implementation\n",
    "* Variable scaling doesn't seem to help much when the problem isn't degenerated, but for degenerated problems it works wonders (see showcase)\n",
    "* Advanced stopping criteria really shine when we have a huge scaling (see showcase), but may require finnicky changes to the tolerance for well-scaled problems (as are ours) to make sure that get we our solution in a certain tolerance range\n",
    "\n"
   ]
  }
 ],
 "metadata": {
  "interpreter": {
   "hash": "1966315138f400f62dc1fff91c72ed91dd6df0f36082b426fd0f91ceb8258b5f"
  },
  "kernelspec": {
   "display_name": "Python 3",
   "language": "python",
   "name": "python3"
  },
  "language_info": {
   "codemirror_mode": {
    "name": "ipython",
    "version": 3
   },
   "file_extension": ".py",
   "mimetype": "text/x-python",
   "name": "python",
   "nbconvert_exporter": "python",
   "pygments_lexer": "ipython3",
   "version": "3.9.4"
  }
 },
 "nbformat": 4,
 "nbformat_minor": 4
}