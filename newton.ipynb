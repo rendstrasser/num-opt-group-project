{
 "cells": [
  {
   "cell_type": "markdown",
   "metadata": {},
   "source": [
    "<h3 style=\"background-color: #D3D92B;\"><br>Numerical Optimisation. Project 1<br></h3><br>"
   ]
  },
  {
   "cell_type": "markdown",
   "metadata": {},
   "source": [
    "<h3 style=\"background-color: #D3D92B;\"><br>Team Information<br></h3><br>"
   ]
  },
  {
   "cell_type": "markdown",
   "metadata": {},
   "source": [
    "<i>Group ####<br>\n",
    "Participants information in alphabetical order</i>\n",
    "<table style=\"width:100%\">\n",
    "  <\n",
    "    <th style = \"text-align: left\">#</th>\n",
    "    <th style = \"text-align: left\">Name</th>\n",
    "    <th style = \"text-align: left\">Lastname</th>\n",
    "    <th style = \"text-align: left\">Matr Number</th>\n",
    "  </tr>\n",
    "  <tr>\n",
    "    <td style = \"text-align: left\">1</td>\n",
    "    <td style = \"text-align: left\">Raphael-Pascal</td>\n",
    "    <td style = \"text-align: left\">Endstrasser</td>\n",
    "    <td style = \"text-align: left\">K11907909</td>\n",
    "  </tr>\n",
    "  <tr>\n",
    "    <td style = \"text-align: left\">2</td>\n",
    "    <td style = \"text-align: left\">***</td>\n",
    "    <td style = \"text-align: left\">***</td>\n",
    "    <td style = \"text-align: left\">***</td>\n",
    "  </tr>\n",
    "  <tr>\n",
    "    <td style = \"text-align: left\">3</td>\n",
    "    <td style = \"text-align: left\">***</td>\n",
    "    <td style = \"text-align: left\">***</td>\n",
    "    <td style = \"text-align: left\">***</td>\n",
    "  </tr>\n",
    "  <tr>\n",
    "    <td style = \"text-align: left\">4</td>\n",
    "    <td style = \"text-align: left\">***</td>\n",
    "    <td style = \"text-align: left\">***</td>\n",
    "    <td style = \"text-align: left\">***</td>\n",
    "    </tr>\n",
    "  <tr>\n",
    "    <td style = \"text-align: left\">5</td>\n",
    "    <td style = \"text-align: left\">***</td>\n",
    "    <td style = \"text-align: left\">***</td>\n",
    "    <td style = \"text-align: left\">***</td>\n",
    "  </tr>\n",
    "  <tr>\n",
    "    <td style = \"text-align: left\">6</td>\n",
    "    <td style = \"text-align: left\">***</td>\n",
    "    <td style = \"text-align: left\">***</td>\n",
    "    <td style = \"text-align: left\">***</td>\n",
    "  </tr>\n",
    "  <tr>\n",
    "    <td style = \"text-align: left\">7</td>\n",
    "    <td style = \"text-align: left\">***</td>\n",
    "    <td style = \"text-align: left\">***</td>\n",
    "    <td style = \"text-align: left\">***</td>\n",
    "  </tr>\n",
    "  <tr>\n",
    "    <td style = \"text-align: left\">8</td>\n",
    "    <td style = \"text-align: left\">***</td>\n",
    "    <td style = \"text-align: left\">***</td>\n",
    "    <td style = \"text-align: left\">***</td>\n",
    "  </tr>\n",
    "  <tr>\n",
    "    <td style = \"text-align: left\">9</td>\n",
    "    <td style = \"text-align: left\">***</td>\n",
    "    <td style = \"text-align: left\">***</td>\n",
    "    <td style = \"text-align: left\">***</td>\n",
    "  </tr>\n",
    "  <tr>\n",
    "    <td style = \"text-align: left\">10</td>\n",
    "    <td style = \"text-align: left\">***</td>\n",
    "    <td style = \"text-align: left\">***</td>\n",
    "    <td style = \"text-align: left\">***</td>\n",
    "  </tr>\n",
    "</table>\n"
   ]
  },
  {
   "cell_type": "markdown",
   "metadata": {},
   "source": [
    "<h3 style=\"background-color: #D3D92B;\"><br>Implementation<br></h3><br>\n",
    "<hr><h4 style=\"background-color: #ADB8FF;\"><br>Imports<br></h4><br>\n",
    "<i>Describe how to install additional packages, if you have some, here</i>\n"
   ]
  },
  {
   "cell_type": "code",
   "execution_count": 14,
   "metadata": {
    "pycharm": {
     "is_executing": true
    }
   },
   "outputs": [],
   "source": [
    "import numpy as np\n",
    "import scipy \n",
    "import pandas as pd\n",
    "from matplotlib import pyplot as plt\n",
    "import seaborn as sns\n",
    "from typing import Callable, Tuple"
   ]
  },
  {
   "cell_type": "code",
   "execution_count": 2,
   "metadata": {},
   "outputs": [],
   "source": [
    "# TODO: temp imports, move code inline before submission\n",
    "# As we are using additional .py files, enable their reloading without restarting the kernel\n",
    "%load_ext autoreload\n",
    "%autoreload 2\n",
    "\n",
    "from src import algorithms as alg\n",
    "from src.algorithms import MinimizationProblem\n",
    "from src.problems import ROSENBROCK_PROBLEM, create_quadratic_problem, create_non_quadratic_problem"
   ]
  },
  {
   "cell_type": "markdown",
   "metadata": {},
   "source": [
    "<hr><h4 style=\"background-color: #ADB8FF;\"><br>Stopping criteria<br></h4><br>\n",
    "<i>Place for additional comments and argumentation<i>"
   ]
  },
  {
   "cell_type": "code",
   "execution_count": 3,
   "metadata": {
    "pycharm": {
     "is_executing": true
    }
   },
   "outputs": [],
   "source": [
    "#your function for stopping criterium\n",
    "\n",
    "# TODO paste from algorithms.check_stopping_criterion"
   ]
  },
  {
   "cell_type": "markdown",
   "metadata": {},
   "source": [
    "<hr><h4 style=\"background-color: #ADB8FF;\"><br>Varibales scaling<br></h4><br>\n",
    "<i>Place your reasoning here, how your algorithm behave with respect to this problem. You can also try rescaling your problems\n",
    "This is additional task, which can earn you several points.<i>"
   ]
  },
  {
   "cell_type": "markdown",
   "metadata": {},
   "source": [
    "<hr><h4 style=\"background-color: #ADB8FF;\"><br>Stabilising algorithm<br></h4><br>\n",
    "<i>Place your reasoning here, how your algorithm behave with respect to this problem. You can also try rescaling your problems\n",
    "This is additional task, which can earn you several points.<i>"
   ]
  },
  {
   "cell_type": "code",
   "execution_count": 4,
   "metadata": {
    "pycharm": {
     "is_executing": true
    }
   },
   "outputs": [],
   "source": [
    "#your function for stabilising goes here\n",
    "\n",
    "# TODO discuss, what do we need to do here?"
   ]
  },
  {
   "cell_type": "markdown",
   "metadata": {},
   "source": [
    "<hr><h4 style=\"background-color: #ADB8FF;\"><br>Fighting floating-point numbers and roundoff error<br></h4><br>\n",
    "<i>Place your reasoning, how your algorithm behave with respect to this problem. You can also try rescaling your problems\n",
    "This is additional task, which can earn you several points.<i>"
   ]
  },
  {
   "cell_type": "markdown",
   "metadata": {},
   "source": [
    "<hr><h4 style=\"background-color: #ADB8FF;\"><br>Inverting matrices<br></h4><br>\n",
    "<i>Place for additional comments and argumentation<i>"
   ]
  },
  {
   "cell_type": "code",
   "execution_count": 5,
   "metadata": {
    "pycharm": {
     "is_executing": true
    }
   },
   "outputs": [],
   "source": [
    "#your function for invertion goes here\n",
    "\n",
    "# TODO paste code from alg.invert_matrix"
   ]
  },
  {
   "cell_type": "markdown",
   "metadata": {},
   "source": [
    "<hr><h4 style=\"background-color: #ADB8FF;\"><br>Gradients calculation<br></h4><br>\n",
    "<i>Place for additional comments and argumentation<i>"
   ]
  },
  {
   "cell_type": "code",
   "execution_count": 15,
   "metadata": {
    "pycharm": {
     "is_executing": true
    }
   },
   "outputs": [],
   "source": [
    "#your function for gradient approximation goes here\n",
    "\n",
    "# TODO paste either MinimizationProblem entirely or standalone function which currently resides in MinimizationProblem#calc_gradient_at"
   ]
  },
  {
   "cell_type": "markdown",
   "metadata": {},
   "source": [
    "<hr><h4 style=\"background-color: #ADB8FF;\"><br>Additional objects you implemented<br></h4><br>\n",
    "<i>Place for additional comments and argumentation<i>"
   ]
  },
  {
   "cell_type": "code",
   "execution_count": 7,
   "metadata": {
    "pycharm": {
     "is_executing": true
    }
   },
   "outputs": [],
   "source": [
    "#your code goes here\n",
    "\n",
    "# TODO paste code from algorithms.MinimizationProblem (if not done earlier)\n",
    "# TODO paste code from algorithms.DirectionState"
   ]
  },
  {
   "cell_type": "markdown",
   "metadata": {},
   "source": [
    "<hr><h4 style=\"background-color: #ADB8FF;\"><br>Optimising algorithm itself<br></h4><br>\n",
    "<i>Place for additional comments and argumentation<i>"
   ]
  },
  {
   "cell_type": "code",
   "execution_count": 8,
   "metadata": {
    "pycharm": {
     "is_executing": true
    }
   },
   "outputs": [],
   "source": [
    "#your code goes here\n",
    "\n",
    "# TODO paste code from algorithms.find_minimizer\n",
    "# TODO paste code from algorithms._backtracking_line_search"
   ]
  },
  {
   "cell_type": "markdown",
   "metadata": {},
   "source": [
    "<h3 style=\"background-color: #D3D92B;\"><br>Testing on 5-10 variables, Quadratic objective<br></h3><br>\n",
    "<hr><h4 style=\"background-color: #ADB8FF;\"><br>Implement functions to optimise over<br></h4><br>\n",
    "<i>Place for additional comments and argumentation<i>"
   ]
  },
  {
   "cell_type": "code",
   "execution_count": 9,
   "metadata": {
    "pycharm": {
     "is_executing": true
    }
   },
   "outputs": [],
   "source": [
    "#your code goes here\n",
    "\n",
    "# TODO paste code from problems.create_quadratic_problem\n",
    "\n",
    "np.random.seed(41) # reproducability\n",
    "\n",
    "# take 5 random values of n for matrix/vector size of quadratic problem\n",
    "n_values = np.random.randint(low=10, high=21, size=5)\n",
    "\n",
    "quadratic_problems = [create_quadratic_problem(n) for n in n_values]"
   ]
  },
  {
   "cell_type": "markdown",
   "metadata": {},
   "source": [
    "<hr><h4 style=\"background-color: #ADB8FF;\"><br>Run 5 tests<br></h4><br>\n",
    "<p><b>Note:</b> After every test print out the resulsts. \n",
    "<br>For your convinience we implemented a function which will do it for you. Function can be used in case after running optimisation you return $x_{optimal}$, and if you have implemented your gradient approximation. Feel free to bring your adjustments.\n",
    "<br> Additionaly print how many iterations your algotithm needed. You might also provide charts of your taste (if you want).\n",
    "<p><i>Place for your additional comments and argumentation<i>"
   ]
  },
  {
   "cell_type": "code",
   "execution_count": 10,
   "metadata": {
    "pycharm": {
     "is_executing": true
    }
   },
   "outputs": [],
   "source": [
    "def final_printout(x_0,x_optimal,x_appr,f,grad,tolerance, **kwargs):\n",
    "    \"\"\"\n",
    "    Parameters\n",
    "    --------------------------------------------------------------------------------------------------------------\n",
    "    x_0: numpy 1D array, corresponds to initial point\n",
    "    x_optimal: numpy 1D array, corresponds to optimal point, which you know, or have solved analytically\n",
    "    x_appr: numpy 1D array, corresponds to approximated point, which your algorithm returned\n",
    "    --------------------------------------------------------------------------------------------------------------\n",
    "    f: function which takes 2 inputs: x (initial, optimal, or approximated)\n",
    "                                      **args\n",
    "       Function f returns a scalar output.\n",
    "    --------------------------------------------------------------------------------------------------------------\n",
    "    grad: function which takes 3 inputs: x (initial, optimal, or approximated), \n",
    "                                         function f,\n",
    "                                         args (which are submitted, because you might need\n",
    "                                              to call f(x,**args) inside your gradient function implementation). \n",
    "          Function grad approximates gradient at given point and returns a 1d np array.\n",
    "    --------------------------------------------------------------------------------------------------------------\n",
    "    args: dictionary, additional (except of x) arguments to function f\n",
    "    tolerance: float number, absolute tolerance, precision to which, you compare optimal and approximated solution.\n",
    "    \"\"\"\n",
    "    \n",
    "    print(f'Initial x is :\\t\\t{x_0}')\n",
    "    print(f'Optimal x is :\\t\\t{x_optimal}')\n",
    "    print(f'Approximated x is :\\t{x_appr}')\n",
    "    print(f'Is close verificaion: \\t{np.isclose(x_appr,x_optimal,atol=tolerance)}\\n')\n",
    "    f_opt = f(x_optimal,**kwargs)\n",
    "    f_appr = f(x_appr,**kwargs)\n",
    "    print(f'Function value in optimal point:\\t{f_opt}')\n",
    "    print(f'Function value in approximated point:   {f_appr}')\n",
    "    print(f'Is close verificaion:\\t{np.isclose(f_opt,f_appr,atol=tolerance)}\\n')\n",
    "    print(f'Gradient approximation in optimal point is:\\n{grad(f,x_optimal,**kwargs)}\\n')\n",
    "    grad_appr = grad(f,x_appr,**kwargs)\n",
    "    print(f'Gradient approximation in approximated point is:\\n{grad_appr}\\n')\n",
    "    print(f'Is close verificaion:\\n{np.isclose(grad_appr,np.zeros(grad_appr.shape),atol=tolerance)}')"
   ]
  },
  {
   "cell_type": "code",
   "execution_count": 11,
   "metadata": {
    "pycharm": {
     "is_executing": true
    },
    "scrolled": true
   },
   "outputs": [
    {
     "name": "stdout",
     "output_type": "stream",
     "text": [
      "Starting minimization procedure for quadratic problems ...\n",
      "\n",
      "\n",
      "### Evaluating quadratic problem 0 ###\n",
      "\n",
      "Initial x is :\t\t[0. 0. 0. 0. 0. 0. 0. 0. 0. 0.]\n",
      "Optimal x is :\t\t[4 3 4 2 1 3 8 2 2 2]\n",
      "Approximated x is :\t[4. 3. 4. 2. 1. 3. 8. 2. 2. 2.]\n",
      "Is close verificaion: \t[ True  True  True  True  True  True  True  True  True  True]\n",
      "\n",
      "Function value in optimal point:\t-113172.5\n",
      "Function value in approximated point:   -113172.5\n",
      "Is close verificaion:\tTrue\n",
      "\n",
      "Gradient approximation in optimal point is:\n",
      "[0 0 0 0 0 0 0 0 0 0]\n",
      "\n",
      "Gradient approximation in approximated point is:\n",
      "[ 3.67435860e-10  5.45696821e-11  1.50066626e-10  6.91215973e-11\n",
      "  1.17324817e-10  2.81943358e-10 -3.27418093e-11  1.25510269e-10\n",
      "  1.18234311e-10  6.91215973e-11]\n",
      "\n",
      "Is close verificaion:\n",
      "[ True  True  True  True  True  True  True  True  True  True]\n",
      "\n",
      "Iterations required: 2\n",
      "\n",
      "\n",
      "### Evaluating quadratic problem 1 ###\n",
      "\n",
      "Initial x is :\t\t[0. 0. 0. 0. 0. 0. 0. 0. 0. 0. 0. 0. 0.]\n",
      "Optimal x is :\t\t[2 4 3 8 4 9 7 8 5 9 4 2 4]\n",
      "Approximated x is :\t[2. 4. 3. 8. 4. 9. 7. 8. 5. 9. 4. 2. 4.]\n",
      "Is close verificaion: \t[ True  True  True  True  True  True  True  True  True  True  True  True\n",
      "  True]\n",
      "\n",
      "Function value in optimal point:\t-835987.5\n",
      "Function value in approximated point:   -835987.5\n",
      "Is close verificaion:\tTrue\n",
      "\n",
      "Gradient approximation in optimal point is:\n",
      "[0 0 0 0 0 0 0 0 0 0 0 0 0]\n",
      "\n",
      "Gradient approximation in approximated point is:\n",
      "[0.00000000e+00 0.00000000e+00 0.00000000e+00 3.63797881e-12\n",
      " 0.00000000e+00 3.63797881e-12 0.00000000e+00 3.63797881e-12\n",
      " 0.00000000e+00 0.00000000e+00 0.00000000e+00 3.63797881e-12\n",
      " 0.00000000e+00]\n",
      "\n",
      "Is close verificaion:\n",
      "[ True  True  True  True  True  True  True  True  True  True  True  True\n",
      "  True]\n",
      "\n",
      "Iterations required: 2\n",
      "\n",
      "\n",
      "### Evaluating quadratic problem 2 ###\n",
      "\n",
      "Initial x is :\t\t[0. 0. 0. 0. 0. 0. 0. 0. 0. 0. 0. 0.]\n",
      "Optimal x is :\t\t[4 4 7 2 3 1 3 9 6 1 6 5]\n",
      "Approximated x is :\t[4. 4. 7. 2. 3. 1. 3. 9. 6. 1. 6. 5.]\n",
      "Is close verificaion: \t[ True  True  True  True  True  True  True  True  True  True  True  True]\n",
      "\n",
      "Function value in optimal point:\t-376312.5\n",
      "Function value in approximated point:   -376312.5000000001\n",
      "Is close verificaion:\tTrue\n",
      "\n",
      "Gradient approximation in optimal point is:\n",
      "[0 0 0 0 0 0 0 0 0 0 0 0]\n",
      "\n",
      "Gradient approximation in approximated point is:\n",
      "[ 0.0000000e+00  0.0000000e+00  0.0000000e+00  0.0000000e+00\n",
      "  0.0000000e+00  0.0000000e+00  0.0000000e+00  0.0000000e+00\n",
      " -1.8189894e-12  1.8189894e-12  0.0000000e+00  0.0000000e+00]\n",
      "\n",
      "Is close verificaion:\n",
      "[ True  True  True  True  True  True  True  True  True  True  True  True]\n",
      "\n",
      "Iterations required: 2\n",
      "\n",
      "\n",
      "### Evaluating quadratic problem 3 ###\n",
      "\n",
      "Initial x is :\t\t[0. 0. 0. 0. 0. 0. 0. 0. 0. 0.]\n",
      "Optimal x is :\t\t[5 1 1 2 2 2 8 5 5 2]\n",
      "Approximated x is :\t[5. 1. 1. 2. 2. 2. 8. 5. 5. 2.]\n",
      "Is close verificaion: \t[ True  True  True  True  True  True  True  True  True  True]\n",
      "\n",
      "Function value in optimal point:\t-110165.0\n",
      "Function value in approximated point:   -110165.00000000001\n",
      "Is close verificaion:\tTrue\n",
      "\n",
      "Gradient approximation in optimal point is:\n",
      "[0 0 0 0 0 0 0 0 0 0]\n",
      "\n",
      "Gradient approximation in approximated point is:\n",
      "[ 1.81898940e-12 -9.09494702e-13  0.00000000e+00  9.09494702e-13\n",
      "  0.00000000e+00  0.00000000e+00  0.00000000e+00  9.09494702e-13\n",
      "  0.00000000e+00  9.09494702e-13]\n",
      "\n",
      "Is close verificaion:\n",
      "[ True  True  True  True  True  True  True  True  True  True]\n",
      "\n",
      "Iterations required: 2\n",
      "\n",
      "\n",
      "### Evaluating quadratic problem 4 ###\n",
      "\n",
      "Initial x is :\t\t[0. 0. 0. 0. 0. 0. 0. 0. 0. 0. 0.]\n",
      "Optimal x is :\t\t[7 9 6 4 6 7 1 5 7 3 2]\n",
      "Approximated x is :\t[7. 9. 6. 4. 6. 7. 1. 5. 7. 3. 2.]\n",
      "Is close verificaion: \t[ True  True  True  True  True  True  True  True  True  True  True]\n",
      "\n",
      "Function value in optimal point:\t-486149.0\n",
      "Function value in approximated point:   -486149.00000000006\n",
      "Is close verificaion:\tTrue\n",
      "\n",
      "Gradient approximation in optimal point is:\n",
      "[0 0 0 0 0 0 0 0 0 0 0]\n",
      "\n",
      "Gradient approximation in approximated point is:\n",
      "[ 0.00000000e+00  3.63797881e-12  0.00000000e+00  0.00000000e+00\n",
      "  0.00000000e+00 -1.81898940e-12  0.00000000e+00  3.63797881e-12\n",
      "  0.00000000e+00  0.00000000e+00  0.00000000e+00]\n",
      "\n",
      "Is close verificaion:\n",
      "[ True  True  True  True  True  True  True  True  True  True  True]\n",
      "\n",
      "Iterations required: 2\n"
     ]
    }
   ],
   "source": [
    "#your code goes here\n",
    "\n",
    "print(\"Starting minimization procedure for quadratic problems ...\")\n",
    "\n",
    "for i, problem in enumerate(quadratic_problems):\n",
    "    print(f\"\\n\\n### Evaluating quadratic problem {i} ###\\n\")\n",
    "\n",
    "    x_minimizer, grad_norms = alg.find_minimizer(problem, problem.x0, alg.newton_direction, tolerance=1e-5, max_iter=300_000)\n",
    "    final_printout(problem.x0, problem.solution, x_minimizer, problem.f, problem.calc_gradient_at, tolerance=1e-5)\n",
    "    print(f\"\\nIterations required: {len(grad_norms)}\")"
   ]
  },
  {
   "cell_type": "markdown",
   "metadata": {},
   "source": [
    "<i>Here is some place for your analysis. How the behavour of algorithm changed after adjustments? What are specific details, differences you noticed with respect to other algorithms behaviour.</i>"
   ]
  },
  {
   "cell_type": "markdown",
   "metadata": {},
   "source": [
    "<h3 style=\"background-color: #D3D92B;\"><br>Testing on functions of 1-2 variables, Non-quadratic objective<br></h3><br>\n",
    "<hr><h4 style=\"background-color: #ADB8FF;\"><br>Implement functions to optimise over<br></h4><br>\n",
    "<i>Place for additional comments and argumentation<i>"
   ]
  },
  {
   "cell_type": "code",
   "execution_count": 12,
   "metadata": {
    "pycharm": {
     "is_executing": true
    }
   },
   "outputs": [],
   "source": [
    "#your code goes here\n",
    "\n",
    "# TODO paste code from problems.create_non_quadratic_problem\n",
    "\n",
    "np.random.seed(41) # reproducability\n",
    "\n",
    "non_quadratic_problems = [create_non_quadratic_problem() for _ in range(5)]"
   ]
  },
  {
   "cell_type": "markdown",
   "metadata": {},
   "source": [
    "<hr><h4 style=\"background-color: #ADB8FF;\"><br>Run 5 tests<br></h4><br>\n",
    "<p><i>Place for your additional comments and argumentation<i>"
   ]
  },
  {
   "cell_type": "code",
   "execution_count": 13,
   "metadata": {
    "pycharm": {
     "is_executing": true
    }
   },
   "outputs": [
    {
     "name": "stdout",
     "output_type": "stream",
     "text": [
      "Starting minimization procedure for non-quadratic problems ...\n",
      "\n",
      "\n",
      "### Evaluating non-quadratic problem 0 ###\n",
      "\n",
      "Initial x is :\t\t[-20.]\n",
      "Optimal x is :\t\t[-10]\n",
      "Approximated x is :\t[-10.]\n",
      "Is close verificaion: \t[ True]\n",
      "\n",
      "Function value in optimal point:\t-4100.0\n",
      "Function value in approximated point:   -4100.0\n",
      "Is close verificaion:\tTrue\n",
      "\n",
      "Gradient approximation in optimal point is:\n",
      "[0]\n",
      "\n",
      "Gradient approximation in approximated point is:\n",
      "[0.]\n",
      "\n",
      "Is close verificaion:\n",
      "[ True]\n",
      "\n",
      "Iterations required: 7\n",
      "\n",
      "\n",
      "### Evaluating non-quadratic problem 1 ###\n",
      "\n",
      "Initial x is :\t\t[-20.]\n",
      "Optimal x is :\t\t[-8]\n",
      "Approximated x is :\t[-8.]\n",
      "Is close verificaion: \t[ True]\n",
      "\n",
      "Function value in optimal point:\t-682.6666666666666\n",
      "Function value in approximated point:   -682.6666666666665\n",
      "Is close verificaion:\tTrue\n",
      "\n",
      "Gradient approximation in optimal point is:\n",
      "[0]\n",
      "\n",
      "Gradient approximation in approximated point is:\n",
      "[-2.78532752e-12]\n",
      "\n",
      "Is close verificaion:\n",
      "[ True]\n",
      "\n",
      "Iterations required: 8\n",
      "\n",
      "\n",
      "### Evaluating non-quadratic problem 2 ###\n",
      "\n",
      "Initial x is :\t\t[-20.]\n",
      "Optimal x is :\t\t[-7]\n",
      "Approximated x is :\t[-7.]\n",
      "Is close verificaion: \t[ True]\n",
      "\n",
      "Function value in optimal point:\t-1000.4166666666665\n",
      "Function value in approximated point:   -1000.4166666666669\n",
      "Is close verificaion:\tTrue\n",
      "\n",
      "Gradient approximation in optimal point is:\n",
      "[0]\n",
      "\n",
      "Gradient approximation in approximated point is:\n",
      "[-1.82787119e-12]\n",
      "\n",
      "Is close verificaion:\n",
      "[ True]\n",
      "\n",
      "Iterations required: 8\n",
      "\n",
      "\n",
      "### Evaluating non-quadratic problem 3 ###\n",
      "\n",
      "Initial x is :\t\t[-20.]\n",
      "Optimal x is :\t\t[-5]\n",
      "Approximated x is :\t[-5.]\n",
      "Is close verificaion: \t[ True]\n",
      "\n",
      "Function value in optimal point:\t-472.91666666666663\n",
      "Function value in approximated point:   -472.91666666666663\n",
      "Is close verificaion:\tTrue\n",
      "\n",
      "Gradient approximation in optimal point is:\n",
      "[0]\n",
      "\n",
      "Gradient approximation in approximated point is:\n",
      "[0.]\n",
      "\n",
      "Is close verificaion:\n",
      "[ True]\n",
      "\n",
      "Iterations required: 8\n",
      "\n",
      "\n",
      "### Evaluating non-quadratic problem 4 ###\n",
      "\n",
      "Initial x is :\t\t[-20.]\n",
      "Optimal x is :\t\t[-2]\n",
      "Approximated x is :\t[-2.]\n",
      "Is close verificaion: \t[ True]\n",
      "\n",
      "Function value in optimal point:\t-57.33333333333333\n",
      "Function value in approximated point:   -57.33333333333333\n",
      "Is close verificaion:\tTrue\n",
      "\n",
      "Gradient approximation in optimal point is:\n",
      "[0]\n",
      "\n",
      "Gradient approximation in approximated point is:\n",
      "[0.]\n",
      "\n",
      "Is close verificaion:\n",
      "[ True]\n",
      "\n",
      "Iterations required: 9\n"
     ]
    }
   ],
   "source": [
    "#your code goes here\n",
    "\n",
    "print(\"Starting minimization procedure for non-quadratic problems ...\")\n",
    "\n",
    "for i, problem in enumerate(non_quadratic_problems):\n",
    "    print(f\"\\n\\n### Evaluating non-quadratic problem {i} ###\\n\")\n",
    "\n",
    "    x_minimizer, grad_norms = alg.find_minimizer(problem, problem.x0, alg.newton_direction, tolerance=1e-5, max_iter=300_000)\n",
    "    \n",
    "    # We have two possible local minimizer solutions, choose the one that was found\n",
    "    dist_to_solution_0 = np.sum(np.abs(problem.solution[0] - x_minimizer))\n",
    "    dist_to_solution_1 = np.sum(np.abs(problem.solution[1] - x_minimizer))\n",
    "    \n",
    "    solution = problem.solution[0] if dist_to_solution_0 < dist_to_solution_1 else problem.solution[1]\n",
    "    \n",
    "    final_printout(problem.x0, solution, x_minimizer, problem.f, problem.calc_gradient_at, tolerance=1e-5)\n",
    "    print(f\"\\nIterations required: {len(grad_norms)}\")"
   ]
  },
  {
   "cell_type": "markdown",
   "metadata": {},
   "source": [
    "<i>Here is some place for your analysis. How the behavour of algorithm changed after adjustments? What are specific details, differences you noticed with respect to other algorithms behaviour.</i>"
   ]
  },
  {
   "cell_type": "markdown",
   "metadata": {},
   "source": [
    "<h3 style=\"background-color: #D3D92B;\"><br>Template for teachers' tests<br></h3><br>\n",
    "<hr><h4 style=\"background-color: #ADB8FF;\"><br>Set up a template, how one can run your code<br></h4><br>\n",
    "Template should include sceletons for:<ul>\n",
    "    <li>custom function to optimise over </li> \n",
    "    <li>values initialisation to submit into otimising algorithm </li> \n",
    "    <li>optimiser function call</li> \n",
    "    <li>report print out call</li> </ul><br>\n",
    "Provide descriptions and comments."
   ]
  }
 ],
 "metadata": {
  "kernelspec": {
   "display_name": "Python 3",
   "language": "python",
   "name": "python3"
  },
  "language_info": {
   "codemirror_mode": {
    "name": "ipython",
    "version": 3
   },
   "file_extension": ".py",
   "mimetype": "text/x-python",
   "name": "python",
   "nbconvert_exporter": "python",
   "pygments_lexer": "ipython3",
   "version": "3.7.4"
  }
 },
 "nbformat": 4,
 "nbformat_minor": 4
}
